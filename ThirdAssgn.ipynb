{
 "cells": [
  {
   "cell_type": "markdown",
   "metadata": {},
   "source": [
    "1.1 Write a Python Program to implement your own myreduce() function which works exactly  like Python's built-in function reduce() \n",
    " \n",
    "\n"
   ]
  },
  {
   "cell_type": "code",
   "execution_count": 3,
   "metadata": {},
   "outputs": [
    {
     "name": "stdout",
     "output_type": "stream",
     "text": [
      "21\n"
     ]
    }
   ],
   "source": [
    "def norm_add(a,b):\n",
    "    return a+b\n",
    "\n",
    "def myreduce(l1):\n",
    "    i = 0\n",
    "    for j in l1:\n",
    "        i = norm_add(i,j)\n",
    "    return i\n",
    "        \n",
    "numbers = [1,2,3,4,5,6]\n",
    "print(myreduce(numbers))"
   ]
  },
  {
   "cell_type": "markdown",
   "metadata": {},
   "source": [
    "1.2 Write a Python program to implement your own myfilter() function which works exactly  like Python's built-in function filter()"
   ]
  },
  {
   "cell_type": "code",
   "execution_count": 16,
   "metadata": {},
   "outputs": [
    {
     "name": "stdout",
     "output_type": "stream",
     "text": [
      "Enter Total list of Charactersq,w,e,r,t,e,t,q,a,s,d,f,g\n",
      "Enter characters to be filtered: a,e,i,o,u\n",
      "['e', 'e', 'a']\n"
     ]
    }
   ],
   "source": [
    "def myfilter(L1,S1):\n",
    "    fil = []\n",
    "    for i in L1:\n",
    "        for j in S1:\n",
    "            if i == j:\n",
    "                fil.append(j)\n",
    "    return fil\n",
    "    \n",
    "L = input(\"Enter Total list of Characters\").split(',')\n",
    "S = input(\"Enter characters to be filtered: \").split(\",\")\n",
    "print(myfilter(L,S))"
   ]
  },
  {
   "cell_type": "markdown",
   "metadata": {},
   "source": [
    "2. Implement List comprehensions to produce the following lists.  \n",
    "Write List comprehensions to produce the following Lists \n",
    "['A', 'C', 'A', 'D', 'G', 'I', ’L’, ‘ D’] \n",
    "['x', 'xx', 'xxx', 'xxxx', 'y', 'yy', 'yyy', 'yyyy', 'z', 'zz', 'zzz', 'zzzz']  \n",
    "['x', 'y', 'z', 'xx', 'yy', 'zz', 'xxx', 'yyy', 'zzz', 'xxxx', 'yyyy', 'zzzz']  \n",
    "[[2], [3], [4], [3], [4], [5], [4], [5], [6]] [[2, 3, 4, 5], [3, 4, 5, 6],  \n",
    "[4, 5, 6, 7], [5, 6, 7, 8]] \n",
    "[(1, 1), (2, 1), (3, 1), (1, 2), (2, 2), (3, 2), (1, 3), (2, 3), (3, 3)]"
   ]
  },
  {
   "cell_type": "code",
   "execution_count": 34,
   "metadata": {},
   "outputs": [
    {
     "name": "stdout",
     "output_type": "stream",
     "text": [
      "['A', 'C', 'A', 'D', 'G', 'I', 'L', 'D']\n",
      "['x', 'xx', 'xxx', 'xxxx', 'y', 'yy', 'yyy', 'yyyy', 'z', 'zz', 'zzz', 'zzzz']\n",
      "['x', 'y', 'z', 'xx', 'yy', 'zz', 'xxx', 'yyy', 'zzz', 'xxxx', 'yyyy', 'zzzz']\n",
      "[2, 3, 4, 3, 4, 5, 4, 5, 6]\n",
      "[(2, 3, 4, 5), (3, 4, 5, 6), (4, 5, 6, 7), (5, 6, 7, 8)]\n",
      "[(1, 1), (2, 1), (3, 1), (1, 2), (2, 2), (3, 2), (1, 3), (2, 3), (3, 3)]\n"
     ]
    }
   ],
   "source": [
    "L = [str(x) for x in 'ACADGILD']\n",
    "L2 = list('xyz')\n",
    "p1 = []\n",
    "[p1.append(L2[i]*j) for i in range(len(L2)) for j in range(1,5)]\n",
    "p2 = []\n",
    "[p2.append(L2[j]*i) for i in range(1,5) for j in range(len(L2))]\n",
    "p3 = []\n",
    "[p3.append(i+j) for i in range(2,5) for j in range(0,3)]\n",
    "p4 = []\n",
    "[p4.append((i,i+1,i+2,i+3)) for i in range(2,6)]\n",
    "p5 = []\n",
    "[p5.append((j,i)) for i in range(1,4) for j in range(1,4)]\n",
    "\n",
    "print(L)\n",
    "print(p1)\n",
    "print(p2)\n",
    "print(p3)\n",
    "print(p4)\n",
    "print(p5)"
   ]
  }
 ],
 "metadata": {
  "kernelspec": {
   "display_name": "Python 3",
   "language": "python",
   "name": "python3"
  },
  "language_info": {
   "codemirror_mode": {
    "name": "ipython",
    "version": 3
   },
   "file_extension": ".py",
   "mimetype": "text/x-python",
   "name": "python",
   "nbconvert_exporter": "python",
   "pygments_lexer": "ipython3",
   "version": "3.7.4"
  }
 },
 "nbformat": 4,
 "nbformat_minor": 2
}
